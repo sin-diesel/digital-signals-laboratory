{
 "cells": [
  {
   "cell_type": "markdown",
   "metadata": {
    "id": "NJZ30CdNgDEz"
   },
   "source": [
    "# Лабораторная работа №4. Синтез КИХ-фильтров.\n",
    "Лаборатория цифровой обработки сигналов, МФТИ"
   ]
  },
  {
   "cell_type": "markdown",
   "metadata": {
    "id": "o_uEAOLhgDEz"
   },
   "source": [
    "| Вариант                                                                \t| 0    \t| 1 \t| 2 \t| 3 \t| 4 \t| 5 \t| 6 \t|\n",
    "|:------------------------------------------------------------------------:|:-----:|:-----:|:-----:|:-----:|:-----:|:-----:|:-----:|\n",
    "| Частота дискретизации $f_s$ Гц                                         \t| 2000\t| 5000\t| 5500\t| 6000\t| 6500\t| 7000\t| 7500\t|\n",
    "| граничная частота полосы пропускания $f_1$ Гц                          \t| 450  \t| 500 \t| 650 \t| 800 \t| 950 \t| 1100\t| 1250\t|\n",
    "| граничная частота полосы задерживания $f_2$ Гц                         \t| 550  \t| 750 \t| 925 \t| 1100\t| 1275\t| 1450\t| 1625\t|\n",
    "| максимально допустимое отклонение АЧХ в полосе пропускания $\\delta_1$  \t| 0.1  \t| 0.05\t| 0.05\t| 0.05\t| 0.05\t| 0.05\t| 0.05\t|\n",
    "| максимально допустимое отклонение АЧХ в полосе задерживания $\\delta_2$ \t| 0.05 \t| 0.02 \t| 0.02\t| 0.02\t| 0.02\t| 0.02\t| 0.02\t|"
   ]
  },
  {
   "cell_type": "code",
   "execution_count": 2,
   "metadata": {
    "id": "ebF1-p0CgDE0"
   },
   "outputs": [],
   "source": [
    "import matplotlib.pyplot as plt\n",
    "import numpy as np\n",
    "from scipy import signal\n",
    "import matplotlib.ticker as ticker\n"
   ]
  },
  {
   "cell_type": "markdown",
   "metadata": {
    "id": "JHg7SrTfgDE0"
   },
   "source": [
    "# Модуль 1. Метод частотной выборки синтеза КИХ-фильтров"
   ]
  },
  {
   "cell_type": "markdown",
   "metadata": {
    "id": "zeb6PBTEgDE0"
   },
   "source": [
    "## Задача 1.1. Синтез ФНЧ по идеальной АЧХ. \n",
    "\n",
    "Синтезировать КИХ-фильтр 28 порядка ($N=29$) на основе идеального фильтра нижних частот с частотой среза $f_c=(f_1+f_2)/2$ методом частотной выборки. Частоту дискретизации принять равной $f_s$.\n",
    "\n",
    "а) Определить максимальные уровни пульсаций $\\delta_1$ и $\\delta_2$ в полосе пропускания и в полосе задерживания. \n",
    "\n",
    "б) Изобразить на одном графике АЧХ фильтра и отсчеты ДПФ. \n",
    "\n",
    "в) Построить импульсную характеристику КИХ-фильтра. Определить по виду импульсной характеристики, будет ли фильтр обладать постоянной фазовой и группой задержками.\n",
    "\n",
    "г) Получить график для групповой задержки фильтра. Сравнить с выводом в пункте (в)."
   ]
  },
  {
   "cell_type": "code",
   "execution_count": 3,
   "metadata": {
    "id": "tYIlrFMyK5ii"
   },
   "outputs": [],
   "source": [
    "# For ideal IIR\n",
    "def ideal_lowpass(f, f_c=450, fs=2000):\n",
    "    if 0 <= f <= f_c or fs-f_c <= f <=  fs:\n",
    "        return 1.0 +0.0j\n",
    "    else:\n",
    "        return 0.0 +0.0j"
   ]
  },
  {
   "cell_type": "code",
   "execution_count": 4,
   "metadata": {},
   "outputs": [],
   "source": [
    "N = 29\n",
    "fs = 7000\n",
    "f_1 = 1100\n",
    "f_2 = 1450\n",
    "H = np.zeros(N, dtype=complex)\n",
    "alpha = (N-1.0)/2.0\n",
    "for n in range(N):\n",
    "    H[n] = ideal_lowpass(f=fs*n/N, f_c=(f_1 + f_2) / 2, fs=fs) * np.exp(-2j * np.pi * (N - 1) / 2.0 * n / N)"
   ]
  },
  {
   "cell_type": "code",
   "execution_count": 5,
   "metadata": {},
   "outputs": [],
   "source": [
    "h = np.fft.ifft(H).real\n",
    "M = 1024\n",
    "H1 = abs(np.fft.fft(h, M))\n",
    "\n",
    "plt.figure(figsize=[8, 3])\n",
    "plt.plot(np.arange(M) / M, H1, color='coral')\n",
    "plt.stem(np.arange(N) / N, abs(np.fft.fft(h)), linefmt='c', markerfmt='bo')\n",
    "plt.grid()\n",
    "plt.ylabel('$|H(\\\\nu)|$')\n",
    "plt.xlabel('Нормированная частота, $\\\\nu$')\n",
    "plt.title('АЧХ')\n",
    "\n",
    "plt.figure(figsize=[8, 3])\n",
    "ax = plt.axes()\n",
    "ax.xaxis.set_major_locator(ticker.MultipleLocator(base=1))\n",
    "plt.stem(np.arange(N), h)\n",
    "plt.xlabel('$k$')\n",
    "plt.ylabel('$h[k]$')\n",
    "plt.title(\"Каузальная импульсная характеристика\")\n",
    "plt.grid()\n",
    "\n",
    "delta=1e-6\n",
    "nu, gd = signal.group_delay((h, [1]), w=np.linspace(-0.5+delta, 0.5-delta, num=2048), fs=1)\n",
    "\n",
    "plt.figure(figsize=[8, 3])\n",
    "plt.title('Групповая задержка фильтра')\n",
    "plt.plot(nu, gd*1, 'C3')\n",
    "plt.ylabel('$\\\\tau_{{гр}}, c$')\n",
    "plt.xlabel('Нормированная частота, $\\\\nu$')\n",
    "plt.ylim([min(gd)-1, max(gd)+1])\n",
    "plt.xticks(np.linspace(-0.5, 0.5, 11))\n",
    "plt.grid()\n",
    "plt.tight_layout()\n",
    "\n",
    "plt.figure(figsize=[8, 3])\n",
    "ax = plt.subplot(111)\n",
    "H1=((np.fft.fft(h, M)))\n",
    "plt.plot(np.arange(M)/M, np.unwrap(np.angle(H1)), color='C2')\n",
    "plt.title(\"ФЧХ (с разверткой на $2\\\\pi$)\")\n",
    "ax.xaxis.set_major_locator(ticker.MultipleLocator(base=0.1))\n",
    "plt.xlim([0, 1])\n",
    "#plt.yticks([-np.pi, 0, np.pi], labels=(\"$-\\pi$\", \"0\", \"$\\pi$\"))\n",
    "#ax.yaxis.set_major_locator(ticker.MultipleLocator(base=np.pi))\n",
    "plt.yticks(np.arange(0, min(np.unwrap(np.angle(H1))), -np.pi), labels=(\"%i$\\\\pi$\" %u for u in range(0, -10, -1)))\n",
    "plt.xlabel('$\\\\nu$')\n",
    "plt.ylabel('ФЧХ, $\\\\varphi(\\\\nu), рад$')\n",
    "plt.grid()"
   ]
  },
  {
   "cell_type": "code",
   "execution_count": 6,
   "metadata": {},
   "outputs": [],
   "source": [
    "h = np.fft.ifft(H).real\n",
    "h3 = np.concatenate((h, h, h ))\n",
    "plt.figure(figsize=[8, 3])\n",
    "plt.stem(np.arange(3*N)-N, h3, linefmt='C1', markerfmt='C1o')\n",
    "plt.stem(np.arange(N), h, linefmt='b', markerfmt='bo')\n",
    "plt.xlabel('$k$')\n",
    "plt.ylabel('$h_p[k]$')\n",
    "plt.grid()\n",
    "plt.tight_layout()"
   ]
  },
  {
   "cell_type": "code",
   "execution_count": 7,
   "metadata": {},
   "outputs": [],
   "source": [
    "h = np.fft.ifft(H).real\n",
    "M = 1024\n",
    "H1 = abs(np.fft.fft(h, M))\n",
    "\n",
    "plt.figure(figsize=[8, 3])\n",
    "plt.stem(np.arange(N), h)\n",
    "plt.xlabel('$k$')\n",
    "plt.ylabel('$h[k]$')\n",
    "plt.title(\"Каузальная импульсная характеристика\")\n",
    "plt.grid()\n",
    "plt.tight_layout()"
   ]
  },
  {
   "cell_type": "code",
   "execution_count": 8,
   "metadata": {
    "scrolled": true
   },
   "outputs": [],
   "source": [
    "plt.figure(figsize=[8, 3])\n",
    "plt.plot(np.arange(M)/M, H1, color='coral')\n",
    "plt.stem(np.arange(N)/N, abs(np.fft.fft(h)), linefmt='c', markerfmt='bo')\n",
    "plt.grid()\n",
    "plt.ylabel('$|H(\\\\nu)|$')\n",
    "plt.xlabel('Нормированная частота, $\\\\nu$')\n",
    "plt.title('АЧХ')\n",
    "plt.tight_layout()"
   ]
  },
  {
   "cell_type": "code",
   "execution_count": 9,
   "metadata": {},
   "outputs": [],
   "source": [
    "delta=1e-6\n",
    "nu, gd = signal.group_delay((h, [1]), w=np.linspace(-0.5+delta, 0.5-delta, num=2048), fs=1)\n",
    "\n",
    "plt.figure(figsize=[8, 3])\n",
    "plt.title('Групповая задержка фильтра')\n",
    "plt.plot(nu, gd*1, 'C3')\n",
    "plt.ylabel('$\\\\tau_{{гр}}, c$')\n",
    "plt.xlabel('Нормированная частота, $\\\\nu$')\n",
    "plt.ylim([min(gd)-1, max(gd)+1])\n",
    "plt.xticks(np.linspace(-0.5, 0.5, 11))\n",
    "plt.grid()\n",
    "plt.tight_layout()"
   ]
  },
  {
   "cell_type": "markdown",
   "metadata": {
    "id": "egqngMRYgDE1"
   },
   "source": [
    "## Задача 1.2. Синтез ФНЧ по непрерывной АЧХ.\n",
    "\n",
    "Синтезировать КИХ-фильтр 28 порядка ($N=29$) на основе идеального фильтра нижних частот с граничной частотой полосы пропускания $f_1$ и с граничной частотой полосы задерживания $f_2$ методом частотной выборки. Частоту дискретизации принять равной $f_s$. Частотную характеристику идеального фильтра в полосе перехода аппроксимировать линейной функцией так, чтобы характеристика была непрерывной.\n",
    "\n",
    "а) Определить максимальные уровни пульсаций $\\delta_1$ и $\\delta_2$ в полосе пропускания и в полосе задерживания. Сравнить с результатом в задаче 1.1.\n",
    "\n",
    "б) Изобразить на одном графике АЧХ фильтра и отсчеты ДПФ. \n",
    "\n",
    "в) Построить импульсную характеристику полученного КИХ-фильтра. Определить по виду импульсной характеристики, будет ли \n",
    "фильтр обладать постоянной фазовой и группой задержками.\n",
    "\n",
    "г) Получить график для групповой задержки фильтра. Сравнить с выводом в пункте (в).\n",
    "\n",
    "д) Определить частоту среза (по уровню $-3$ дБ) модельного и полученного фильтров. "
   ]
  },
  {
   "cell_type": "code",
   "execution_count": 10,
   "metadata": {
    "id": "ijUzMXgeK6Lh"
   },
   "outputs": [],
   "source": [
    "# Not ideal, but we instead apply linear approximation here\n",
    "def ideal_lowpass2(f, f_c=450, fs=2000):\n",
    "    f1 = 450\n",
    "    f2 = 550\n",
    "    if 0 <= f <= f1 or fs-f1 <= f <=  fs:\n",
    "        return 1.0\n",
    "    elif f1 < f < f2: \n",
    "        return f / (f1 - f2) + (f2 / (f2 - f1))\n",
    "    elif fs-f2<f<fs-f1:\n",
    "        return f / (f2 - f1) + (fs - f2) / (-f2 + f1)\n",
    "    else:\n",
    "        return 0.0\n",
    "\n",
    "N = 29\n",
    "fs = 7000\n",
    "f_1 = 1100\n",
    "f_2 = 1450\n",
    "H = np.zeros(N, dtype=complex)\n",
    "alpha = (N - 1.0) / 2.0\n",
    "for n in range(N):\n",
    "    H[n] = ideal_lowpass2(f=fs*n/N, f_c=(f_1+f_2) / 2, fs=fs)"
   ]
  },
  {
   "cell_type": "code",
   "execution_count": 11,
   "metadata": {},
   "outputs": [],
   "source": [
    "M = 1024\n",
    "H1 = abs(np.fft.fft(h, M))\n",
    "\n",
    "plt.figure(figsize=[8, 3])\n",
    "plt.plot(np.arange(M) / M, H1, color='coral')\n",
    "plt.stem(np.arange(N) / N, abs(np.fft.fft(h)), linefmt='c', markerfmt='bo')\n",
    "plt.grid()\n",
    "plt.ylabel('$|H(\\\\nu)|$')\n",
    "plt.xlabel('Нормированная частота, $\\\\nu$')\n",
    "plt.title('АЧХ')\n",
    "plt.tight_layout()"
   ]
  },
  {
   "cell_type": "code",
   "execution_count": 12,
   "metadata": {},
   "outputs": [],
   "source": [
    "h = np.fft.ifft(H).real\n",
    "h = np.roll(h, N // 2)\n",
    "\n",
    "plt.figure(figsize=[8, 3])\n",
    "plt.stem(np.arange(N), h, linefmt='b', markerfmt='bo')\n",
    "plt.xlabel('$k$')\n",
    "plt.ylabel('$h[k]$')\n",
    "plt.title(\"Каузальная импульсная характеристика\")\n",
    "plt.grid()\n",
    "plt.tight_layout()"
   ]
  },
  {
   "cell_type": "markdown",
   "metadata": {
    "id": "XQlUAzvPgDE1"
   },
   "source": [
    "## Задача 1.3*. Синтез фильтра с характеристикой «приподнятый косинус»\n",
    "\n",
    "Синтезировать КИХ-фильтр 28 порядка ($N=29$) с частотой среза $f_c=(f_1+f_2)/2$  на основе фильтра приподнятого косинуса методом частотной выборки. Частоту дискретизации принять равной $f_s$. На интервале $[-f_s/2, f_s/2]$ частотная характеристика фильтра задается следующим образом \n",
    "\n",
    "$$H(f)=\\left\\{ \\begin{matrix}\n",
    "   1, & |f| < (1-\\beta)f_c;\\\\\n",
    "   \\dfrac{1}{2}*\\left( 1+\\cos \\left(\\pi \\dfrac{|f|-(1-\\beta)f_c}{2\\beta f_c} \\right) \\right), & (1-\\beta) f_c \\le |f| \\le (1+\\beta)f_c;  \\\\\n",
    "   0,   &  |f| > (1+\\beta)f_c. \\\\\n",
    "\\end{matrix} \\right.$$\n",
    "\n",
    "а) Подобрать такое $\\beta$, чтобы модельный фильтр не выходил за максимально допустимые отклонения АЧХ в полосе пропускания и в полосе задерживания ($\\delta_1$ и $\\delta_2$). Изобразить полученную АЧХ фильтра.\n",
    "\n",
    "б) Для синтезированного фильтра определить максимальные уровни пульсаций $\\delta_1$ и $\\delta_2$ в полосе пропускания и в полосе задерживания. Сравнить с результатами в задаче 1.1 и задаче 1.2.\n",
    "\n",
    "в) Изобразить на одном графике АЧХ фильтра и отсчеты ДПФ. \n",
    "\n",
    "г) Построить импульсную характеристику полученного КИХ-фильтра. Определить по виду импульсной характеристики, будет ли \n",
    "фильтр обладать постоянной фазовой и группой задержками.\n",
    "\n",
    "д) Получить график для групповой задержки фильтра. Сравнить с выводом в пункте (г).\n",
    "\n",
    "е) Определить частоту среза (по уровню $-3$ дБ) полученного фильтра. Сравнить с задачей 1.2.\n"
   ]
  },
  {
   "cell_type": "code",
   "execution_count": 86,
   "metadata": {
    "id": "RrwQTVi3K6r5"
   },
   "outputs": [
    {
     "name": "stdout",
     "output_type": "stream",
     "text": [
      "Using matplotlib backend: TkAgg\n"
     ]
    },
    {
     "data": {
      "text/plain": [
       "0"
      ]
     },
     "execution_count": 86,
     "metadata": {},
     "output_type": "execute_result"
    }
   ],
   "source": [
    "from matplotlib.widgets import Slider\n",
    "%matplotlib\n",
    "\n",
    "N = 29\n",
    "f_c = (f_1 + f_2) / 2\n",
    "init_beta = 0.001\n",
    "delta_1 = 0.05\n",
    "delta_2 = 0.02\n",
    "\n",
    "def H(f: float, beta: float) -> float:\n",
    "    if abs(f) < (1 - beta) * f_c:\n",
    "        return 1\n",
    "    elif (1 - beta) * f_c <= abs(f) <= (1 + beta) * f_c:\n",
    "        return 0.5 * (1 + np.cos(np.pi * (abs(f) - (1 - beta) * f_c) / (2 * beta * f_c)))\n",
    "    else:\n",
    "        return 0\n",
    "\n",
    "M = 2048 # precision\n",
    "fig, ax = plt.subplots()\n",
    "H1 = [H(f, init_beta) for f in np.arange(start=-fs / 2, stop=fs /2)]\n",
    "frange = np.arange(-fs/2, fs/2)\n",
    "line, = ax.plot(frange, H1, color='coral')\n",
    "plt.grid()\n",
    "plt.ylabel('$|H(f)|$')\n",
    "plt.xlabel('$f, Гц$')\n",
    "plt.title('АЧХ')\n",
    "plt.tight_layout()\n",
    "\n",
    "beta_ax = fig.add_axes([0.25, 0.1, 0.65, 0.03])\n",
    "beta_slider = Slider(\n",
    "    ax=beta_ax,\n",
    "    label='Beta',\n",
    "    valmin=0.00001,\n",
    "    valmax=1,\n",
    "    valinit=init_beta,\n",
    ")\n",
    "\n",
    "def update(val):\n",
    "    line.set_ydata([H(f, beta_slider.val) for f in np.arange(start=-fs / 2, stop=fs /2)])\n",
    "    fig.canvas.draw_idle()\n",
    "\n",
    "beta_slider.on_changed(update)"
   ]
  },
  {
   "cell_type": "markdown",
   "metadata": {
    "id": "XkW8ZLE4gDE1"
   },
   "source": [
    "#  Модуль 2. Метод окон для синтеза КИХ-фильтров"
   ]
  },
  {
   "cell_type": "markdown",
   "metadata": {
    "id": "1hO_kclNgDE2"
   },
   "source": [
    "### Задача 2.1. Сравнение АЧХ фильтров одного порядка \n",
    "Синтезировать КИХ-фильтры нижних частот c частотой среза $f_c$ при частоте дискретизации $f_s$ порядка $R=28$ ($N=29$) с использованием следующих окон:\n",
    "\n",
    "* прямоугольное (окно Дирихле)\n",
    "$$w[k]=\\left\\{ \\begin{matrix}\n",
    "   1,  \\\\\n",
    "   0,  \\\\\n",
    "\\end{matrix}\\begin{matrix}\n",
    "   \\ \\ 0\\le k\\le N-1;  \\\\\n",
    "   \\left\\{ k<0 \\right\\}\\cup \\left\\{ k\\ge N \\right\\}.  \\\\\n",
    "\\end{matrix} \\right.$$\n",
    "\n",
    "* окно Ханна \n",
    "$$w[k]=\\left\\{ \\begin{matrix}\n",
    "   0,5-0,5\\cos \\dfrac{2\\pi k}{N-1}, & 0\\le k\\le N-1;  \\\\\n",
    "   0, &\\left\\{ k<0 \\right\\}\\cup \\left\\{ k\\ge N \\right\\}. \\\\\n",
    "\\end{matrix} \\right.$$\n",
    "\n",
    "* окно Хэмминга\n",
    "$$w[k]=\\left\\{ \\begin{matrix}\n",
    "   0,54-0,46\\cos \\dfrac{2\\pi k}{N-1}, & 0\\le k\\le N-1;  \\\\\n",
    "   0, &\\left\\{ k<0 \\right\\}\\cup \\left\\{ k\\ge N \\right\\}. \\\\\n",
    "\\end{matrix} \\right.$$\n",
    "\n",
    "* окно Блэкмана\n",
    "$$w[k]=\\left\\{ \\begin{matrix}\n",
    "   0,42-0,5\\cos \\dfrac{2\\pi k}{N-1}+0,08\\cos \\dfrac{4\\pi k}{N-1}, & 0\\le k\\le N-1;  \\\\\n",
    "   0, &\\left\\{ k<0 \\right\\}\\cup \\left\\{ k\\ge N \\right\\}. \\\\\n",
    "\\end{matrix} \\right.$$"
   ]
  },
  {
   "cell_type": "markdown",
   "metadata": {
    "id": "ZVnrSBVqgDE2"
   },
   "source": [
    "Построить графики оконной функции $w[k]$, импульсной характеристики КИХ-фильтра $h[k]$, АЧХ КИХ-фильтра(в линейном масштабе и в дБ). Определить по графикам максимальный уровень пульсаций по полосе задерживания в дБ. Заполнить таблицу.\n",
    "\n",
    "|Окно, применяемое для синтеза фильтра |Частота среза, по уровню -3дБ, Гц |Максимальный уровень пульсаций, дБ | Ширина переходной зоны, Гц |\n",
    "|:-------:|:-|:-|:-|\n",
    "|Дирихле  |1300|0.5|350|\n",
    "|Ханна    |1200|0.05|700|\n",
    "|Хэмминга |1150|0.02|800|\n",
    "|Блэкмана |1100|0|1000|\n",
    "\n"
   ]
  },
  {
   "cell_type": "code",
   "execution_count": 42,
   "metadata": {
    "id": "_t7dINm3K74J"
   },
   "outputs": [],
   "source": [
    "fs = 7000\n",
    "f1 = 1100\n",
    "f2 = 1450\n",
    "\n",
    "delta1 = 0.05\n",
    "delta2 = 0.02\n",
    "\n",
    "%matplotlib inline\n",
    "\n",
    "from scipy.signal.windows import boxcar\n",
    "from scipy.signal.windows import hann\n",
    "from scipy.signal.windows import hamming\n",
    "from scipy.signal.windows import blackman\n"
   ]
  },
  {
   "cell_type": "code",
   "execution_count": 43,
   "metadata": {},
   "outputs": [
    {
     "data": {
      "image/png": "[encoded data removed]",
      "text/plain": [
       "<Figure size 800x300 with 1 Axes>"
      ]
     },
     "metadata": {},
     "output_type": "display_data"
    },
    {
     "data": {
      "image/png": "[encoded data removed]",
      "text/plain": [
       "<Figure size 800x300 with 1 Axes>"
      ]
     },
     "metadata": {},
     "output_type": "display_data"
    },
    {
     "data": {
      "image/png": "[encoded data removed]",
      "text/plain": [
       "<Figure size 800x300 with 1 Axes>"
      ]
     },
     "metadata": {},
     "output_type": "display_data"
    },
    {
     "data": {
      "image/png": "[encoded data removed]",
      "text/plain": [
       "<Figure size 800x300 with 1 Axes>"
      ]
     },
     "metadata": {},
     "output_type": "display_data"
    }
   ],
   "source": [
    "M = 30\n",
    "k = np.arange(M)\n",
    "bc = boxcar(M=M, sym=True)\n",
    "hn = hann(M=M, sym=True)\n",
    "hm = hamming(M=M, sym=True)\n",
    "bm = blackman(M=M, sym=True)\n",
    "\n",
    "for window in [(bc, \"Дирихле\"), (hn, \"Ханна\"),\n",
    "               (hm, \"Хэмминг\"), (bm, \"Блэкмен\")]:\n",
    "    plt.figure(figsize=[8, 3])\n",
    "    plt.stem(window[0])\n",
    "    plt.grid()\n",
    "    plt.xlabel('$k$')\n",
    "    plt.ylabel('$w[k]$')\n",
    "    plt.title(f\"Окно {window[1]}\")\n",
    "    plt.tight_layout()\n"
   ]
  },
  {
   "cell_type": "code",
   "execution_count": 32,
   "metadata": {},
   "outputs": [
    {
     "data": {
      "image/png": "[encoded data removed]",
      "text/plain": [
       "<Figure size 1000x700 with 1 Axes>"
      ]
     },
     "metadata": {},
     "output_type": "display_data"
    }
   ],
   "source": [
    "nu_c = 0.1\n",
    "\n",
    "plt.figure(figsize=[10, 7])\n",
    "\n",
    "def hk_val(k, nu_c):\n",
    "    if k != 0:\n",
    "        return np.sin(2*np.pi*nu_c*k)/(np.pi*k)\n",
    "    return 2 * nu_c\n",
    "\n",
    "\n",
    "k=np.arange(-40, 41, 1)\n",
    "h = [hk_val(x, nu_c) for x in k]\n",
    "k1=np.arange(-15, 16, 1)\n",
    "h1 = [hk_val(x, nu_c) for x in k1]\n",
    "plt.subplot(2, 1, 1)\n",
    "plt.stem(k, h)\n",
    "plt.stem(k1, h1, linefmt='g', markerfmt='go')\n",
    "plt.text(-35, 1.1*nu_c, '...', fontsize=20)\n",
    "plt.text(35, 1.1*nu_c, '...', fontsize=20)\n",
    "plt.grid()"
   ]
  },
  {
   "cell_type": "code",
   "execution_count": 44,
   "metadata": {},
   "outputs": [
    {
     "name": "stdout",
     "output_type": "stream",
     "text": [
      "Warning: Cannot change to a different GUI toolkit: notebook. Using tk instead.\n"
     ]
    }
   ],
   "source": [
    "cutoff = (f1 + f2) / 2\n",
    "N = 29\n",
    "%matplotlib notebook\n",
    "\n",
    "windows = ['boxcar', 'hann', 'hamming', 'blackman']\n",
    "for window in windows:\n",
    "    h = signal.firwin(numtaps=N,\n",
    "                      cutoff=cutoff,\n",
    "                      width=None,\n",
    "                      window=window,\n",
    "                      pass_zero='lowpass',\n",
    "                      fs=fs)\n",
    "    M=1024\n",
    "    H1=abs(np.fft.fftshift(np.fft.fft(h, M)))\n",
    "    plt.figure(figsize=[8, 3])\n",
    "    plt.plot(fs*(np.arange(M)/M-0.5), H1, color='coral')\n",
    "    plt.grid()\n",
    "    plt.ylabel('$|H(f)|$')\n",
    "    plt.xlabel('Частота $f$, Гц')\n",
    "    plt.title(f\"АЧХ {window}\")\n",
    "    plt.xlim([-fs/2, fs/2])\n",
    "    plt.ylim([0.0, 1.2])\n",
    "    plt.fill([-f1,-f1, f1, f1], [0, 1-delta1, 1-delta1, 0], color='gray', lw=2, alpha=0.5)\n",
    "    plt.fill([-fs/2,-fs/2, -f2, -f2], [delta2, 1.2, 1.2, delta2], color='gray', lw=2, alpha=0.5)\n",
    "    plt.fill([f2,f2, fs/2, fs/2], [delta2, 1.2, 1.2, delta2], color='gray', lw=2, alpha=0.5)\n",
    "    plt.fill([-f1,-f1, f1, f1], [1+delta1, 1.2, 1.2, 1+delta1], color='gray', lw=2, alpha=0.5)\n",
    "    plt.tight_layout()\n",
    "    plt.show()"
   ]
  },
  {
   "cell_type": "markdown",
   "metadata": {
    "id": "xfXeHA8rgDE2"
   },
   "source": [
    "### Задача 2.2. Синтез ФНЧ с окном Хемминга. \n",
    "\n",
    "Синтезировать КИХ-фильтр нижних частот с окном Хемминга наименьшего порядка при заданных требованиях к АЧХ:\n",
    "* частота дискретизации $f_s$,\n",
    "* граничная частота полосы пропускания $f_1$,\n",
    "* граничная частота полосы задерживания $f_2$,\n",
    "* максимально допустимое отклонение АЧХ в полосе пропускания $\\delta_1$,\n",
    "* максимально допустимое отклонение АЧХ в полосе задерживания $\\delta_2$.\n",
    "\n",
    "Воспользоваться следующей итерационной процедурой [1]:\n",
    "\n",
    "1) Оценить длину окна по формуле \n",
    "\n",
    "$$\\hat{N}=\\left[\\dfrac{3,3 f_s}{\\Delta f} \\right], \\;\\;  \\Delta f=f_2-f_1$$\n",
    "\n",
    "2) Взвесить импульсную характеристику идеального фильтра c ФЧХ $\\varphi(\\theta)=- \\dfrac{R}{2} \\theta$ окном Хэмминга выбранной длины (``scipy.firwin``, $f_c=(f_1+f_2)/2$).\n",
    "\n",
    "$$h[k]=\\left\\{ \\begin{matrix}\n",
    "   {{h}_{\\text{ideal}}}[k]w[k],  \\\\\n",
    "   0,  \\\\\n",
    "\\end{matrix}\\begin{matrix}\n",
    "   \\ \\ 0\\le k\\le N-1;  \\\\\n",
    "   \\left\\{ k<0 \\right\\}\\cup \\left\\{ k\\ge N \\right\\}.  \\\\\n",
    "\\end{matrix} \\right.$$\n",
    "\n",
    "$$w[k]=\\left\\{ \\begin{matrix}\n",
    "   0,54-0,46\\cos \\dfrac{2\\pi k}{N-1}, & 0\\le k\\le N-1;  \\\\\n",
    "   0, &\\left\\{ k<0 \\right\\}\\cup \\left\\{ k\\ge N \\right\\}. \\\\\n",
    "\\end{matrix} \\right.$$\n",
    "\n",
    "3) Проверить выполнение требований к АЧХ фильтра. Если требования не выполняются, следует увеличить порядок фильтра $R$ (на некоторое целое число) и перейти на п. 2. Если требования выполняются, то нужно уменьшить порядок фильтра  $R$ и перейти на п. 2. Уменьшение и увеличение порядка производится до тех пор, пока не будет найден минимальный порядок , при котором выполняются требования к АЧХ и уменьшение порядка на единицу приводит к нарушению требований к фильтру. \n",
    "\n",
    "Проверку требований к АЧХ можно произвести по графику, используя\n",
    "* backend notebook `%matplotlib notebook` (в Jupyter Notebook)\n",
    "* `plt.xlim()` и `plt.ylim()` (в Google Colab или в Jupyter Notebook)\n",
    "\n",
    "Приведите графики АЧХ КИХ-фильтра с начальным ($\\hat{R}=\\hat{N}-1$) и конечным $R_\\min$ порядками в итерационной процедуре. \n",
    "______\n",
    "\n",
    "[1] Солонина, А. И. Цифровая обработка сигналов в зеркале MATLAB : учебное пособие / А. И. Солонина .— Санкт-Петербург : БХВ-Петербург, 2021 .— 560 с. — (Учебная литература для вузов).\n",
    "\n",
    "P.S. Есть в библиотеке МФТИ. \n",
    "______"
   ]
  },
  {
   "cell_type": "code",
   "execution_count": 52,
   "metadata": {
    "id": "zVJL5k4yK9A5"
   },
   "outputs": [],
   "source": [
    "fs = 7000\n",
    "f1 = 1100\n",
    "f2 = 1450\n",
    "delta1 = 0.05\n",
    "delta2 = 0.02"
   ]
  },
  {
   "cell_type": "code",
   "execution_count": 70,
   "metadata": {},
   "outputs": [
    {
     "data": {
      "text/plain": [
       "57"
      ]
     },
     "execution_count": 70,
     "metadata": {},
     "output_type": "execute_result"
    }
   ],
   "source": [
    "N = int(3.3 * fs // (f2 - f1)) - 9\n",
    "N"
   ]
  },
  {
   "cell_type": "code",
   "execution_count": 71,
   "metadata": {},
   "outputs": [],
   "source": [
    "# For ideal IIR\n",
    "def ideal_lowpass(f, f_c=450, fs=2000):\n",
    "    if 0 <= f <= f_c or fs-f_c <= f <=  fs:\n",
    "        return 1.0 +0.0j\n",
    "    else:\n",
    "        return 0.0 +0.0j\n",
    "\n",
    "H = np.zeros(N, dtype=complex)\n",
    "for n in range(N):\n",
    "    H[n] = ideal_lowpass(f=fs*n/N, \n",
    "                         f_c=(f1 + f2) / 2,\n",
    "                         fs=fs) * np.exp(-2j * np.pi * (N - 1) / 2.0 * n / N)\n",
    "\n",
    "h = np.fft.ifft(H).real\n",
    "M = 1024\n",
    "H1 = abs(np.fft.fft(h, M))"
   ]
  },
  {
   "cell_type": "code",
   "execution_count": 73,
   "metadata": {},
   "outputs": [],
   "source": [
    "h_weighted = signal.firwin(numtaps=N,\n",
    "                           cutoff=(f1  + f2) / 2,\n",
    "                           width=None,\n",
    "                           window='hamming',\n",
    "                           pass_zero='lowpass',\n",
    "                           fs=fs)\n",
    "M=1024\n",
    "H1=abs(np.fft.fftshift(np.fft.fft(h_weighted, M)))\n",
    "plt.figure(figsize=[8, 3])\n",
    "plt.plot(fs*(np.arange(M)/M-0.5), H1, color='coral')\n",
    "plt.grid()\n",
    "plt.ylabel('$|H(f)|$')\n",
    "plt.xlabel('Частота $f$, Гц')\n",
    "plt.title(\"АЧХ блэкмен\")\n",
    "plt.xlim([-fs/2, fs/2])\n",
    "plt.ylim([0.0, 1.2])\n",
    "plt.fill([-f1,-f1, f1, f1], [0, 1-delta1, 1-delta1, 0], color='gray', lw=2, alpha=0.5)\n",
    "plt.fill([-fs/2,-fs/2, -f2, -f2], [delta2, 1.2, 1.2, delta2], color='gray', lw=2, alpha=0.5)\n",
    "plt.fill([f2,f2, fs/2, fs/2], [delta2, 1.2, 1.2, delta2], color='gray', lw=2, alpha=0.5)\n",
    "plt.fill([-f1,-f1, f1, f1], [1+delta1, 1.2, 1.2, 1+delta1], color='gray', lw=2, alpha=0.5)\n",
    "plt.tight_layout()\n",
    "plt.show()"
   ]
  },
  {
   "cell_type": "markdown",
   "metadata": {
    "id": "_j_y2CFEgDE3"
   },
   "source": [
    "## Задача 2.3. Синтез ФНЧ с окном Кайзера.\n",
    "\n",
    "Синтезировать КИХ-фильтр нижних частот с окном Кайзера наименьшего порядка при заданных требованиях к АЧХ :\n",
    "* частота дискретизации $f_s$,\n",
    "* граничная частота полосы пропускания $f_1$,\n",
    "* граничная частота полосы задерживания $f_2$,\n",
    "* максимально допустимое отклонение АЧХ в полосе пропускания $\\delta_1$,\n",
    "* максимально допустимое отклонение АЧХ в полосе задерживания $\\delta_2$.\n",
    "\n",
    "Параметр $\\beta$ и длину окна $N$ определить по эмпирическим формулам, приведенным в лекции, или с помощью функции `signal.kaiserord`. Привести график АЧХ получившегося фильтра, сравнить порядок с фильтром из задачи 2.2. "
   ]
  },
  {
   "cell_type": "code",
   "execution_count": null,
   "metadata": {
    "id": "WV2aY775K9o6"
   },
   "outputs": [],
   "source": [
    "beta = signal.kaiser_beta(a=-20*np.log10(delta1))\n",
    "beta"
   ]
  },
  {
   "cell_type": "code",
   "execution_count": 80,
   "metadata": {},
   "outputs": [
    {
     "data": {
      "text/plain": [
       "38"
      ]
     },
     "execution_count": 80,
     "metadata": {},
     "output_type": "execute_result"
    }
   ],
   "source": [
    "N, beta=signal.kaiserord(ripple=-20*np.log10(0.02), width=(f2-f1)/(fs/2))\n",
    "N"
   ]
  },
  {
   "cell_type": "code",
   "execution_count": 81,
   "metadata": {},
   "outputs": [],
   "source": [
    "R = N - 1"
   ]
  },
  {
   "cell_type": "code",
   "execution_count": 82,
   "metadata": {},
   "outputs": [
    {
     "data": {
      "text/plain": [
       "2.652339138368929"
      ]
     },
     "execution_count": 82,
     "metadata": {},
     "output_type": "execute_result"
    }
   ],
   "source": [
    "beta"
   ]
  },
  {
   "cell_type": "code",
   "execution_count": 83,
   "metadata": {},
   "outputs": [],
   "source": [
    "cutoff=(f1+f2)/2 # 500\n",
    "N=R+1\n",
    "h = signal.firwin(numtaps=N, cutoff=cutoff, window=('kaiser', beta), pass_zero='lowpass', fs=fs)"
   ]
  },
  {
   "cell_type": "code",
   "execution_count": 85,
   "metadata": {},
   "outputs": [],
   "source": [
    "M=1024\n",
    "H1=abs(np.fft.fftshift(np.fft.fft(h, M)))\n",
    "plt.figure(figsize=[8, 3])\n",
    "plt.plot(fs*(np.arange(M)/M-0.5), H1, color='coral')\n",
    "plt.grid()\n",
    "plt.ylabel('$|H(f)|$')\n",
    "plt.xlabel('Частота $f$, Гц')\n",
    "plt.title('АЧХ')\n",
    "plt.xlim([-fs/2, fs/2])\n",
    "plt.ylim([0.0, 1.2])\n",
    "plt.fill([-f1,-f1, f1, f1], [0, 1-delta1, 1-delta1, 0], color='gray', lw=2, alpha=0.5)\n",
    "plt.fill([-fs/2,-fs/2, -f2, -f2], [delta2, 1.2, 1.2, delta2], color='gray', lw=2, alpha=0.5)\n",
    "plt.fill([f2,f2, fs/2, fs/2], [delta2, 1.2, 1.2, delta2], color='gray', lw=2, alpha=0.5)\n",
    "plt.fill([-f1,-f1, f1, f1], [1+delta1, 1.2, 1.2, 1+delta1], color='gray', lw=2, alpha=0.5)\n",
    "plt.tight_layout()\n",
    "plt.show()"
   ]
  },
  {
   "cell_type": "markdown",
   "metadata": {
    "id": "NC6w-WbRgDE3"
   },
   "source": [
    "#  Модуль 3. Оптимизационные методы синтеза КИХ-фильтров"
   ]
  },
  {
   "cell_type": "markdown",
   "metadata": {
    "id": "jGn3w7wKgDE4"
   },
   "source": [
    "## Задача 3.1. Метод наименьших квадратов."
   ]
  },
  {
   "cell_type": "markdown",
   "metadata": {
    "id": "Si39BMlcgDE4"
   },
   "source": [
    "Синтезировать КИХ-фильтр методом наименьших квадратов наименьшего порядка при заданных требованиях к АЧХ :\n",
    "* частота дискретизации $f_s$,\n",
    "* граничная частота полосы пропускания $f_1$,\n",
    "* граничная частота полосы задерживания $f_2$,\n",
    "* максимально допустимое отклонение АЧХ в полосе пропускания $\\delta_1$,\n",
    "* максимально допустимое отклонение АЧХ в полосе задерживания $\\delta_2$.\n",
    "\n",
    "Использовать следующую итерационную процедуру:\n",
    "\n",
    "1) Выбрать начальный порядок фильтра $R$ (например, можно взять результат решения задачи 2.3).\n",
    "\n",
    "2) Используя функцию `scipy.signal.firls`, синтезировать КИХ-фильтр порядка $R$ методом наименьших квадратов.\n",
    "\n",
    "3) Проверить выполнение требований к АЧХ фильтра. Если требования не выпоняются, следует увеличить порядок фильтра $R$ (на некоторое целое число) и перейти на п. 2. Если требования выполняются, то нужно уменьшить порядок фильтра  $R$ и перейти на п. 2. Уменьшение и увеличение порядка производится до тех пор, пока не будет найден минимальный порядок , при котором выполняются требования к АЧХ и уменьшение порядка на единицу приводит к нарушению требований к фильтру. \n",
    "\n",
    "Приведите график АЧХ КИХ-фильтра минимального порядка $R_\\min$ в итерационной процедуре. "
   ]
  },
  {
   "cell_type": "code",
   "execution_count": null,
   "metadata": {
    "id": "HMXZxB7AK-S6"
   },
   "outputs": [],
   "source": []
  },
  {
   "cell_type": "markdown",
   "metadata": {
    "id": "sqKsP7ONgDE4"
   },
   "source": [
    "## Задача 3.2. Метод равномерной чебышевской аппроксимации.\n",
    "\n",
    "Синтезировать КИХ-фильтр методом равномерной чебышевской аппроксимации наименьшего порядка при заданных требованиях к АЧХ :\n",
    "* частота дискретизации $f_s$,\n",
    "* граничная частота полосы пропускания $f_1$,\n",
    "* граничная частота полосы задерживания $f_2$,\n",
    "* максимально допустимое отклонение АЧХ в полосе пропускания $\\delta_1$,\n",
    "* максимально допустимое отклонение АЧХ в полосе задерживания $\\delta_2$.\n",
    "\n",
    "Использовать следующую итерационную процедуру:\n",
    "\n",
    "1) Выбрать начальный порядок фильтра $R$ (например, можно взять результат решения задачи 2.3).\n",
    "\n",
    "2) Используя функцию `scipy.signal.remez`, синтезировать КИХ-фильтр порядка $R$ методом наименьших квадратов.\n",
    "\n",
    "3) Проверить выполнение требований к АЧХ фильтра. Если требования не выпоняются, следует увеличить порядок фильтра $R$ (на некоторое целое число) и перейти на п. 2. Если требования выполняются, то нужно уменьшить порядок фильтра  $R$ и перейти на п. 2. Уменьшение и увеличение порядка производится до тех пор, пока не будет найден минимальный порядок , при котором выполняются требования к АЧХ и уменьшение порядка на единицу приводит к нарушению требований к фильтру. \n",
    "\n",
    "Приведите график АЧХ КИХ-фильтра минимального порядка $R_\\min$ в итерационной процедуре. "
   ]
  },
  {
   "cell_type": "code",
   "execution_count": null,
   "metadata": {
    "id": "-vFP2zv2K-6S"
   },
   "outputs": [],
   "source": []
  },
  {
   "cell_type": "markdown",
   "metadata": {
    "id": "mXx49G9egDE5"
   },
   "source": [
    "## Задача 3.3. Сравнение результатов.\n",
    "\n",
    "Сравнить минимальные порядки КИХ-фильтров, которые получились в задачах 2.2, 2.3, 3.1 и 3.2. Заполнить таблицу.\n"
   ]
  },
  {
   "cell_type": "markdown",
   "metadata": {
    "id": "2bzlpqp2gDE6"
   },
   "source": [
    "|                                             \t| $R_\\min$ \t| $N_\\min$ \t|\n",
    "|:---------------------------------------------:|:---------:|:---------:|\n",
    "| Оконный метод (окно Хэмминга)               \t|         \t|         \t|\n",
    "| Оконный метод (окно Кайзера)                \t|         \t|         \t|\n",
    "| Метод наименьших квадратов                  \t|         \t|         \t|\n",
    "| Метод равномерной чебышевской аппроксимации \t|         \t|         \t|\n",
    "\n",
    "Определить, будут ли выполняться требование из этих задач для фильтра минимального из получившихся порядков, построенного методом частотной выборки (как в задаче 1.2)."
   ]
  },
  {
   "cell_type": "code",
   "execution_count": null,
   "metadata": {
    "id": "X6TjR_b7gDE6"
   },
   "outputs": [],
   "source": []
  },
  {
   "cell_type": "code",
   "execution_count": null,
   "metadata": {
    "id": "6NNCDyOvgDE6"
   },
   "outputs": [],
   "source": []
  }
 ],
 "metadata": {
  "colab": {
   "collapsed_sections": [],
   "name": "lab4.ipynb",
   "provenance": []
  },
  "kernelspec": {
   "display_name": "Python 3 (ipykernel)",
   "language": "python",
   "name": "python3"
  },
  "language_info": {
   "codemirror_mode": {
    "name": "ipython",
    "version": 3
   },
   "file_extension": ".py",
   "mimetype": "text/x-python",
   "name": "python",
   "nbconvert_exporter": "python",
   "pygments_lexer": "ipython3",
   "version": "3.11.6"
  }
 },
 "nbformat": 4,
 "nbformat_minor": 1
}
