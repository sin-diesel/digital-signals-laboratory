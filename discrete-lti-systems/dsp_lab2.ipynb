{
 "cells": [
  {
   "cell_type": "markdown",
   "metadata": {
    "id": "FMZvW6bRpKIR"
   },
   "source": [
    "# Лабораторная работа №2. Дискретные LTI системы.\n",
    "\n",
    "Лаборатория цифровой обработки сигналов, ФРКТ МФТИ\n",
    "\n",
    "\n",
    "Дискретные LTI системы (англ. Linear time-invariant system) — линейные стационарные дискретные системы."
   ]
  },
  {
   "cell_type": "code",
   "execution_count": 2,
   "metadata": {
    "id": "klaiyNI6uzJu"
   },
   "outputs": [],
   "source": [
    "import numpy as np\n",
    "from scipy import signal\n",
    "from pprint import pprint\n",
    "import time"
   ]
  },
  {
   "cell_type": "markdown",
   "metadata": {
    "id": "1tk4rhc9oPbq"
   },
   "source": [
    "# Модуль 1. Линейная дискретная свертка."
   ]
  },
  {
   "cell_type": "markdown",
   "metadata": {
    "id": "YeqozzNLM-_w"
   },
   "source": [
    "## Задача 1.1. Линейная дискретная свертка прямоугольных окон \n",
    "\n",
    "| Варианты: |   1 |    2 |    3 |    4 |    5 |    6 |    7 |    8 |    9 |    10 | \n",
    "|:---------:|----:|-----:|-----:|-----:|-----:|-----:|-----:|-----:|-----:|-----:|\n",
    "|    $M$    | 4 | 5 | 6 | 4 | 5 | 6 | 8 | 7 | 8 | 7 |\n",
    "\n",
    "Вычислить аналитически линейную дискретную свертку двух одинаковых последовательностей $x[k]$ и $h[k]$, таких, что \n",
    "$$x[k]=h[k]=\\sum_{m=0}^{M-1}\\mathbf{1} [k-m], $$ \n",
    "где $M$ соответствует варианту, непосредственно воспользовавшись формулой линейной дискретной свертки\n",
    "$$y[k]=\\sum_{m=-\\infty}^{\\infty} x[m] h[k-m].$$\n",
    "\n",
    "Проверить результаты с помощью моделирования, воспользовавшись функцией `signal.convolve`"
   ]
  },
  {
   "cell_type": "markdown",
   "metadata": {},
   "source": [
    "### Вычисление линейной дискретной свертки последовательностей аналитически"
   ]
  },
  {
   "cell_type": "markdown",
   "metadata": {},
   "source": [
    "$$ y[k] = \\sum\\limits_{m=-\\infty}^{+\\infty} x[m] h[k -m] $$\n",
    "$$ y[0] = \\sum\\limits_{m=-\\infty}^{+\\infty} x[m] \\cdot h[0 - m] = x[0] \\cdot m[0] = 1 $$\n",
    "$$ y[1] = \\sum\\limits_{m=-\\infty}^{+\\infty} x[m] h[1 - m] = x[0] \\cdot y[1] + x[1] \\cdot y[0] = 2 $$\n",
    "$$ y[2] = \\sum\\limits_{m=-\\infty}^{+\\infty} x[m] h[2 - m] = x[0] \\cdot y[2] + x[1] \\cdot y[1] + x[2] \\cdot y[0] = 3 $$\n",
    "$$ y[3] = \\sum\\limits_{m=-\\infty}^{+\\infty} x[m] h[3 - m] = x[0] \\cdot y[3] + x[1] \\cdot y[2] + x[2] \\cdot y[1] + x[3] \\cdot y[0]= 4 $$\n",
    "$$ y[4] = \\sum\\limits_{m=-\\infty}^{+\\infty} x[m] h[4 - m] = x[1] \\cdot y[3] + x[2] \\cdot y[2] + x[3] \\cdot y[1] + x[3] = 3 $$\n",
    "$$ y[5] = \\sum\\limits_{m=-\\infty}^{+\\infty} x[m] h[5 - m] = x[2] \\cdot y[3] + x[3] \\cdot y[2] = 2 $$\n",
    "$$ y[6] = \\sum\\limits_{m=-\\infty}^{+\\infty} x[m] h[6 - m] = x[3] \\cdot y[3] = 1 $$\n",
    "$$ y[7] = 0, y[8] = 0 ... $$"
   ]
  },
  {
   "cell_type": "markdown",
   "metadata": {},
   "source": [
    "### Вычисление результата с помощью моделирования"
   ]
  },
  {
   "cell_type": "code",
   "execution_count": 4,
   "metadata": {},
   "outputs": [
    {
     "data": {
      "text/plain": [
       "array([1, 2, 3, 4, 3, 2, 1])"
      ]
     },
     "execution_count": 4,
     "metadata": {},
     "output_type": "execute_result"
    }
   ],
   "source": [
    "M = 4\n",
    "x = np.array([1] * M)\n",
    "h = x.copy()\n",
    "y = signal.convolve(x, h)\n",
    "y"
   ]
  },
  {
   "cell_type": "markdown",
   "metadata": {},
   "source": [
    "Значение аналитического расчета совпали с моделированием."
   ]
  },
  {
   "cell_type": "markdown",
   "metadata": {
    "id": "-a78oAc_8d7z"
   },
   "source": [
    "## Задача 1.2. Эффективное вычисление свертки \n",
    "\n",
    "\n",
    "\n",
    "\n",
    "| Варианты: |   $1$ |    $2$ |    $3$ |    $4$ |    $5$ |    $6$ |    $7$ |    $8$ |    $9$ |    $10$ |  \n",
    "|:---------:|:----:|:-----:|:-----:|:-----:|:-----:|:-----:|:-----:|:-----:|:-----:|:-----:|\n",
    "|    $N$    | $2^{17}$ | $2^{18}$ | $2^{17}$ | $2^{18}$ | $2^{17}$ | $2^{18}$ | $2^{17}$ | $2^{18}$ | $2^{17}$ | $2^{18}$ |\n",
    "|$n_0$| $128$ | $32$ | $256$ | $64$ | $512$ | $1024$ | $230$ | $325$ | $501$ | $1000$ |\n",
    "\n",
    "Даны последовательности отсчетов\n",
    "$$ x[k]= \\cos(2\\pi kn_0/N)$$  \n",
    "$$ h[k]= \\sin(2\\pi kn_0/N)$$  \n",
    "где $n_0$, $N$ взять из таблицы сверху в соответствии с вариантом и $k$ пробегает значения от $0$ до $N-1.$  \n",
    "Вычислить их линейную дискретную свертку c помощью `signal.convolve()` двумя способами: с помощью прямого вычисления по формуле свёртки и с использованием алгоритма БПФ.  \n",
    "Сравнить вычислительную эффективность, сделать вывод. \n",
    "\n",
    "P.S. На вычисление свертки по формуле может потребоваться значительное колличество времени. \n",
    "\n"
   ]
  },
  {
   "cell_type": "code",
   "execution_count": 5,
   "metadata": {},
   "outputs": [],
   "source": [
    "N = 2 ** 17\n",
    "n_0 = 128\n",
    "\n",
    "k = np.arange(N)\n",
    "x = np.cos(2 * np.pi * k * n_0 / N)\n",
    "h = np.sin(2 * np.pi * k *  n_0 / N)\n"
   ]
  },
  {
   "cell_type": "markdown",
   "metadata": {},
   "source": [
    "### Прямое вычисление при помощи свертки"
   ]
  },
  {
   "cell_type": "code",
   "execution_count": 10,
   "metadata": {},
   "outputs": [
    {
     "name": "stdout",
     "output_type": "stream",
     "text": [
      "array([ 0.        ,  0.00613588,  0.01840731, ..., -0.03681184,\n",
      "       -0.01840673, -0.00613577])\n",
      "Direct convolution:  5.284783840179443 seconds\n"
     ]
    }
   ],
   "source": [
    "start = time.time()\n",
    "y_direct = signal.convolve(x, h, method=\"direct\")\n",
    "end = time.time()\n",
    "pprint(y_direct)\n",
    "print(\"Direct convolution: \", end - start, \"seconds\")"
   ]
  },
  {
   "cell_type": "markdown",
   "metadata": {},
   "source": [
    "### Вычисление с помощью ДПФ"
   ]
  },
  {
   "cell_type": "code",
   "execution_count": 11,
   "metadata": {},
   "outputs": [
    {
     "name": "stdout",
     "output_type": "stream",
     "text": [
      "array([-5.24229095e-14,  6.13588465e-03,  1.84073074e-02, ...,\n",
      "       -3.68118428e-02, -1.84067299e-02, -6.13576914e-03])\n",
      "FFT convolution:  0.028394222259521484 seconds\n"
     ]
    }
   ],
   "source": [
    "start = time.time()\n",
    "y_fft = signal.convolve(x, h, method=\"fft\")\n",
    "end = time.time()\n",
    "pprint(y_fft)\n",
    "assert np.allclose(y_direct, y_fft)\n",
    "print(\"FFT convolution: \", end - start, \"seconds\")"
   ]
  },
  {
   "cell_type": "markdown",
   "metadata": {
    "id": "vg0wVimWoxrB"
   },
   "source": [
    "# Модуль 2. Характеристики LTI систем.\n",
    "\n",
    "\n",
    "\n",
    "\n"
   ]
  },
  {
   "cell_type": "markdown",
   "metadata": {
    "id": "5y-iBrqFpH4n"
   },
   "source": [
    "## Задача 2.1. Фильтр скользящего среднего\n",
    "\n",
    "| Варианты: |   1 |    2 |    3 |    4 |    5 |    6 |    7 |    8 |    9 |    10 | \n",
    "|:---------:|----:|-----:|-----:|-----:|-----:|-----:|-----:|-----:|-----:|-----:|\n",
    "|$M_1$|  9 | 14 | 13 |  9 | 12 |  11 | 14 | 13 |  9 | 12 |\n",
    "|$M_2$| 29 | 50 | 40 | 24 | 50 |  45 | 50 | 40 | 24 | 50 |\n",
    "| $K$ | 35 | 63 | 57 | 35 | 63 |  55 | 63 | 57 | 35 | 63 |\n",
    "| $N$ |100 |140 |130 |100 |140 | 115 |140 | 130 | 100 | 140 |\n",
    "\n",
    "Рассмотрите фильтр скользящего среднего\n",
    "\n",
    "$$y[k]=\\dfrac{1}{M}\\sum_{m=0}^{M-1} x[k-m]$$\n",
    "\n",
    "для $M = M_1$ и $M = M_2$ (из таблицы): \n",
    "\n",
    "* Определите и изобразите импульсную характеристику $h[k]$ фильтра.\n",
    "\n",
    "* Вычислите с помощью `signal.convolve` отклик $y[k]$ фильтра на входное воздействие вида\n",
    "$$ x_{noise}[k] = \\sin(2\\pi k / K) + \\varepsilon[k], 0\\le k\\le N-1.$$\n",
    "где $K,\\;N$ — соответствующие числа из таблицы, $\\varepsilon[k]$ — белый гаусовский шум (`np.random.normal(mu, sigma, N)`) с нулевым среднем `mu=0` и  среднеквадратическим отклонением $\\sigma=0.1$ (`sigma=0.1`).  \n",
    "* Сравните сигналы $x_{noise}[k]$, $y[k]$ и \n",
    "$$ x[k] = \\sin(2\\pi k / K), 0\\le k\\le N-1.$$\n",
    "* Определите и изобразите амплитудно-частотную характеристику (АЧХ) $|H(\\nu)|$ фильтра. Как выбор $M$ влияет на результат фильтрации отрезка гармонического сигнала?"
   ]
  },
  {
   "cell_type": "code",
   "execution_count": null,
   "metadata": {},
   "outputs": [],
   "source": []
  },
  {
   "cell_type": "markdown",
   "metadata": {
    "id": "mKDDFHriMUoA"
   },
   "source": [
    "## Задача 2.2. Двухкаскадный фильтр\n",
    "\n",
    "| Варианты: |   1 |    2 |    3 |    4 |    5 |    6 |   7 |    8 |    9 |    10 | \n",
    "|:---------:|----:|-----:|-----:|-----:|-----:|-----:|-----:|-----:|-----:|-----:|\n",
    "| $a$ |  1 |  1 |  1 |  1 |  1 |  1 |  1 |  1 |  1 |  1 |\n",
    "| $b$ |0.8 |0.7 |0.6 |0.8 |0.7 |0.6 |0.6 |0.8 |0.7 |0.6 |\n",
    "| $c$ |0.5 |0.4 |0.3 |0.5 |0.3 |0.4 |0.3 |0.5 |0.3 |0.4 |\n",
    "| $M$ | 50 | 60 | 50 | 50 | 50 | 60 | 50 | 50 | 50 | 60 |\n",
    "| $N$ |180 |200 |220 |180 |200 |220 |220 |180 |200 |220 |\n",
    "\n",
    "Рассмотрите двухкаскадный фильтр, каскады которого задаются следующими разностными уравнениями. \n",
    "\n",
    "1) $$y[k]=\\dfrac{ax[k]+bx[k-M]+cx[k-2M]}{a+b+c}$$\n",
    "\n",
    "где $a$, $b$, $c$ и $M$ заданы в таблице с вариантами.\n",
    "\n",
    "2) $$y[k]=\\dfrac{x[k]+x[k-1]}{2}.$$\n",
    "\n",
    "Подайте на вход такого  фильтра любой сгенерированный сигнал $x[k]$ длительностью $N$ отсчетов. Измениться ли выход системы от перестановки порядка каскадов? Проведите моделирование с использованием функции `signal.convolve`"
   ]
  },
  {
   "cell_type": "code",
   "execution_count": null,
   "metadata": {},
   "outputs": [],
   "source": []
  },
  {
   "cell_type": "markdown",
   "metadata": {
    "id": "THurtgUQo2gz"
   },
   "source": [
    "# Модуль 3. Аппроксимация идеальных частотно-избирательных фильтров и явление Гиббса"
   ]
  },
  {
   "cell_type": "markdown",
   "metadata": {
    "id": "6FIAMCBpTqIq"
   },
   "source": [
    "## Задача 3.1. Явление Гиббса для каузальной аппроксимации ИФНЧ\n",
    "\n",
    "| Варианты: |   1 |    2 |    3 |    4 |    5 |    6 |   7 |    8 |    9 |    10 | \n",
    "|:---------:|----:|-----:|-----:|-----:|-----:|-----:|-----:|-----:|-----:|-----:|\n",
    "|  $\\nu_c$  |0.1 |0.2 |0.3 |0.1 |0.2 |0.3 |0.2 |0.3 |0.1 | 0.2 |\n",
    "|    $N$    | 30 | 20 | 30 | 20 | 30 | 20 | 24 | 22 | 26 | 28 |\n",
    "\n",
    "Рассмотрите фильтр с импульсной характеристикой\n",
    "$$\n",
    "h[k] =\n",
    "\\left\\{\\begin{array}{l}\n",
    "\\dfrac{\\sin(2\\pi\\nu_c (k-N))}{\\pi (k-N)}, 0\\le k \\le 2N-1\n",
    "\\\\\n",
    "0, \\; \\text{при других } k.\n",
    "\\end{array}\\right.\n",
    "$$\n",
    "для случая $\\nu_c,\\; N$ из варианта. \n",
    "\n",
    "Вычислите с помощью моделирования и постройте график АЧХ этого фильтра.  \n",
    "Как изменяется АЧХ с ростом $N$ при фиксированной частоте среза $\\nu_c$?"
   ]
  },
  {
   "cell_type": "code",
   "execution_count": null,
   "metadata": {},
   "outputs": [],
   "source": []
  },
  {
   "cell_type": "markdown",
   "metadata": {
    "id": "hFEMss4OT6hL"
   },
   "source": [
    "## Задача 3.2.  Аппроксимация фильтра с заданной частотной характеристикой с помощью ДВПФ   \n",
    "\n",
    "Определить импульсную характеристику $h_{ideal}[k]$ фильтра, частотная характеристика которого является действительной функцией частоты и представлена на рисунке. \n",
    "\n",
    "Рассмотреть фильтр, импульсная характеристика которого в отличии от $h_{ideal}[k]$  усечена до $2N$ отсчетов и сдвинута на $N$ отсчетов вправо. С помощью моделирования определить и построить график АЧХ. Сравнить АЧХ обоих фильтров.\n",
    "\n",
    "Рисунок генерируется с помощью функции `task_3_2(variant)` (приведенной ниже), где `variant` – номер варианта. "
   ]
  },
  {
   "cell_type": "code",
   "execution_count": 2,
   "metadata": {},
   "outputs": [],
   "source": [
    "import numpy as np\n",
    "import matplotlib.pyplot as plt \n",
    "def task_3_2(variant):\n",
    "    nu_c1 = [0.2, 0.15, 0.15, 0.1, 0.15, 0.15, 0.2, 0.15, 0.15, 0.1]\n",
    "    amp1 = [1,  0, 0.2, 1, 1, 0.6, 0.3, 0.2, 1, 1]\n",
    "    nu_c2 = [0.4, 0.35, 0.4,  0.3,  0.35,  0.4, 0.4,  0.3,  0.35,  0.4]\n",
    "    amp2 = [0.4, 1, 1, 0.4, 0.7,  1, 1, 1, 0.4, 0.7]\n",
    "    def H_val(nu, n):\n",
    "        return amp1[n] if abs(nu)<=nu_c1[n] else amp2[n] if abs(nu)<=nu_c2[n] else 0.0\n",
    "    nu=np.arange(-0.5, 0.5, 0.001)\n",
    "    plt.figure(figsize=[6, 2], dpi=140)\n",
    "    plt.plot(nu, [H_val(x, variant-1) for x in nu] ,'g-')\n",
    "    plt.xticks([-0.5, -nu_c2[variant-1], -nu_c1[variant-1], 0, nu_c1[variant-1], nu_c2[variant-1], 0.5])\n",
    "    plt.grid()\n",
    "    plt.yticks([0, min(amp1[variant-1],amp2[variant-1]), 1])\n",
    "    plt.xlim([-0.5, 0.5])\n",
    "    plt.xlabel(\"Нормированнная частота, $\\\\nu$\")\n",
    "    plt.ylabel(\"$H(\\\\nu)$\")\n",
    "    plt.title(\"Вариант %i\" %variant)\n",
    "    plt.tight_layout()\n",
    "    plt.show()"
   ]
  },
  {
   "cell_type": "markdown",
   "metadata": {},
   "source": [
    "Пример вывода задания для первого варианта."
   ]
  },
  {
   "cell_type": "code",
   "execution_count": 3,
   "metadata": {},
   "outputs": [
    {
     "data": {
      "image/png": "[encoded data removed]",
      "text/plain": [
       "<Figure size 840x280 with 1 Axes>"
      ]
     },
     "metadata": {},
     "output_type": "display_data"
    }
   ],
   "source": [
    "task_3_2(variant=1)"
   ]
  },
  {
   "cell_type": "code",
   "execution_count": null,
   "metadata": {},
   "outputs": [],
   "source": []
  }
 ],
 "metadata": {
  "colab": {
   "collapsed_sections": [],
   "name": "Lab2_2021.ipynb",
   "provenance": [],
   "toc_visible": true
  },
  "kernelspec": {
   "display_name": "Python 3 (ipykernel)",
   "language": "python",
   "name": "python3"
  },
  "language_info": {
   "codemirror_mode": {
    "name": "ipython",
    "version": 3
   },
   "file_extension": ".py",
   "mimetype": "text/x-python",
   "name": "python",
   "nbconvert_exporter": "python",
   "pygments_lexer": "ipython3",
   "version": "3.10.13"
  }
 },
 "nbformat": 4,
 "nbformat_minor": 1
}
